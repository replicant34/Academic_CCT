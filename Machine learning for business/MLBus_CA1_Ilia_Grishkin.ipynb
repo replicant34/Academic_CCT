{
 "cells": [
  {
   "cell_type": "markdown",
   "id": "7ea3f114-1a89-49ef-9f8c-da19b70b981e",
   "metadata": {},
   "source": [
    "## Assessment Cover Page\n",
    "\n",
    "***\n",
    "\n",
    "### Student Full Name: Ilia Grishkin\n",
    "### Student Number: 2024139\n",
    "### Module Title: Machine Learning for Business\n",
    "### Assessment Title: CA1\n",
    "### Assessment Due Date: 27th October 2024\n",
    "### Date of Submission: \n",
    "\n",
    "***\n",
    "\n",
    "<div style=\"border: 1px solid black; padding: 10px;\">\n",
    "\n",
    "**Declaration**\n",
    "\n",
    "By submitting this assessment, I confirm that I have read the CCT policy on academic misconduct and understand the implications of submitting work that is not my own or does not appropriately reference material taken from a third party or other source. \n",
    "I declare it to be my own work and that all material from third parties has been appropriately referenced.\n",
    " I further confirm that this work has not previously been submitted for assessment by myself or someone else in CCT College Dublin or any other higher education institution.\n",
    "</div>\n",
    "\n",
    "***"
   ]
  },
  {
   "cell_type": "markdown",
   "id": "4a9c4651-81ce-4404-9882-f298615660bd",
   "metadata": {},
   "source": [
    "# Content \n",
    "\n",
    "- [Zoning Ireland: Clustering Attractions for Balanced Tourism](#section0)\n",
    "    - [Etical Considaration](#section1)\n",
    "    - [Objectives](#section2)\n",
    "    - [Data Source and Methods](#section3)\n",
    "    - [Libraries](#section4)\n",
    "    - [EDA](#section5)\n",
    "        - [Summary](#section5.1)\n",
    "    - [Data Preparation](#section6)\n",
    "        - [Missing values - EDA](#section6.1)\n",
    "        - [Missing data - Handling](#section6.2)\n",
    "        - [Encoding](#section6.3)\n",
    "        - [Distributions](#section6.4)\n",
    "        - [Unique values](#section6.5)\n",
    "        - [Skewed features - EDA](#section6.6)\n",
    "        - [Skewed features - Handling](#section6.7)\n",
    "        - [Feature Engeneering](#section6.8)\n",
    "        - [Correlations ](#section6.9)\n",
    "    - [Data Modeling - Unsupervised algorithms](#section7)\n",
    "        - [Prepare data](#section7.1)\n",
    "        - [PCA + KMean](#section7.2)\n",
    "            - [Explained and Cumulative variance ratio](#section7.2.1)\n",
    "            - [Decision boundary](#section4.4)\n",
    "        - [LDA + KMean](#section7.3)\n",
    "            - [Decision Boundary](#section7.3.1)\n",
    "        - [Feature importance](#section7.4)\n",
    "        - [Evaluation](#section7.5)\n",
    "            - [PCA + Kmean](#section7.5.1)\n",
    "            - [LDA + KMean](#section7.5.2)\n",
    "    - [Data Modeling - Supervised algorithms](#section8)\n",
    "        - [Scaling](#section8.1)\n",
    "        - [Categorical targets](#section8.2)\n",
    "            - [PCA Transform](#section8.2.1)\n",
    "            - [Define Targets](#section8.2.2)\n",
    "            - [Define hyperparameters](#section8.2.3)\n",
    "            - [Define Models for GridSearch](#section8.2.4)\n",
    "            - [Fit Models](#section8.2.5)\n",
    "        - [Numeric targets](#section8.3)\n",
    "            - [Define Targets](#section8.3.1)\n",
    "            - [Define hyperparameters](#section8.3.2)\n",
    "            - [Define Models for GridSearch](#section8.3.3)\n",
    "            - [Fit Models](#section8.3.4)\n",
    "        - [Data Modeling - ANN (PyTorch) + CV](#section8.4)\n",
    "        - [Evaluation](#section8.5)\n",
    "            - [DFs with performance metrics](#section8.5.1)\n",
    "            - [Predictability by Target (Classification)](#section8.5.1)\n",
    "            - [Predictability by Target (Regression)](#section8.5.2)\n",
    "            - [Predictability by Model (Classification)](#section8.5.3)\n",
    "            - [Predictability by Model (Regression)](#section8.5.4)\n",
    "    - [Conclusion](#section9)\n",
    "- [Project Lod](#section10)\n",
    "- [References](#section11)\n",
    "- [Author](#section34)\n",
    "***"
   ]
  },
  {
   "cell_type": "markdown",
   "id": "5e0ef1d5-8dc7-4d45-9e5b-bdc474cd4de7",
   "metadata": {},
   "source": [
    "# Zoning Ireland: Clustering Attractions for Balanced Tourism"
   ]
  },
  {
   "cell_type": "markdown",
   "id": "0514841a-3cb6-4e17-b10e-7e5fa417e5ba",
   "metadata": {},
   "source": [
    "## Etical Considaration"
   ]
  },
  {
   "cell_type": "markdown",
   "id": "0a02d4c9-18a3-4258-967d-73ca259c96c5",
   "metadata": {},
   "source": [
    "## Objectives"
   ]
  },
  {
   "cell_type": "markdown",
   "id": "9ccf522f-98cb-4441-b77a-5ba5efc9cf95",
   "metadata": {},
   "source": [
    "## Data Source and Methods"
   ]
  },
  {
   "cell_type": "markdown",
   "id": "d88726e4-284a-4a8e-ab9c-40c6f9802c30",
   "metadata": {},
   "source": [
    "## Libraries"
   ]
  },
  {
   "cell_type": "markdown",
   "id": "c27e82d9-c3aa-43da-9a2a-78e2f4088da7",
   "metadata": {},
   "source": [
    "## EDA"
   ]
  },
  {
   "cell_type": "markdown",
   "id": "f9391979-3f3a-405e-a311-0dca7f87934a",
   "metadata": {},
   "source": [
    "## Data Preparation"
   ]
  },
  {
   "cell_type": "code",
   "execution_count": null,
   "id": "9152693b-7a5c-4374-87b2-4d46bee2b7a8",
   "metadata": {},
   "outputs": [],
   "source": []
  },
  {
   "cell_type": "code",
   "execution_count": null,
   "id": "63ad0b0a-f7b7-4b17-9dcd-f744d9622400",
   "metadata": {},
   "outputs": [],
   "source": []
  },
  {
   "cell_type": "code",
   "execution_count": null,
   "id": "b6d57eb1-97a5-464c-863f-6b2124090684",
   "metadata": {},
   "outputs": [],
   "source": []
  },
  {
   "cell_type": "code",
   "execution_count": null,
   "id": "592dfce3-ed13-41bb-a073-7ac821743b6a",
   "metadata": {},
   "outputs": [],
   "source": []
  },
  {
   "cell_type": "code",
   "execution_count": null,
   "id": "6a647632-c583-469f-aef9-d3a9ad8fca88",
   "metadata": {},
   "outputs": [],
   "source": []
  },
  {
   "cell_type": "code",
   "execution_count": null,
   "id": "bb008bb6-3967-4d15-aaca-90f27e3cb008",
   "metadata": {},
   "outputs": [],
   "source": []
  },
  {
   "cell_type": "code",
   "execution_count": null,
   "id": "7b3ba46b-344b-4305-9406-e41910115cba",
   "metadata": {},
   "outputs": [],
   "source": []
  },
  {
   "cell_type": "code",
   "execution_count": null,
   "id": "473c21ae-d5ed-46bf-9e6f-a7645ad04c63",
   "metadata": {},
   "outputs": [],
   "source": []
  },
  {
   "cell_type": "code",
   "execution_count": null,
   "id": "344c8c01-e59a-4a7c-85f7-affd78dc8a90",
   "metadata": {},
   "outputs": [],
   "source": []
  },
  {
   "cell_type": "code",
   "execution_count": null,
   "id": "199456a1-6de9-47d4-bf72-8edc2190205d",
   "metadata": {},
   "outputs": [],
   "source": []
  },
  {
   "cell_type": "code",
   "execution_count": null,
   "id": "e96d2112-f48e-42fc-9c12-1a490efedefb",
   "metadata": {},
   "outputs": [],
   "source": []
  },
  {
   "cell_type": "code",
   "execution_count": null,
   "id": "489550e3-7726-4e6b-a5fe-a36f71c37460",
   "metadata": {},
   "outputs": [],
   "source": []
  },
  {
   "cell_type": "code",
   "execution_count": null,
   "id": "ba265890-48a7-4f1c-b6d9-eab5d4c7092b",
   "metadata": {},
   "outputs": [],
   "source": []
  },
  {
   "cell_type": "code",
   "execution_count": null,
   "id": "7eb4bf06-1070-4414-8d62-c076bba0ff75",
   "metadata": {},
   "outputs": [],
   "source": []
  },
  {
   "cell_type": "code",
   "execution_count": null,
   "id": "8097cf2c-5de0-44f3-81ab-fb9cd23e2320",
   "metadata": {},
   "outputs": [],
   "source": []
  },
  {
   "cell_type": "markdown",
   "id": "8ecb5ead-8a3b-4044-9eb3-97ebab6e1f22",
   "metadata": {},
   "source": [
    "# Project log"
   ]
  },
  {
   "cell_type": "markdown",
   "id": "8d9567f1-7d20-49b5-85ee-e0a0b36513d1",
   "metadata": {},
   "source": [
    "|  Stage  | SubStage | Planed Due to | Completed at |   Words in SubSection | Note |\n",
    "|---|---|---|---|---|---|\n",
    "| Project Management   | Structure  | 13.09.2024  |   |  | Create Project Log, Set Tasks |\n",
    "| Project Management  | Structure | 14.09.2024  |  |   | Define Stages, Titles and Subtitles   |\n",
    "| Project Management  | Methodology | 15.09.2024  |   |   | Select project management methodology  |\n",
    "| Project Management  | Time Line | 16.09.2024  |  |   | Create a timeline for the project |\n",
    "| Field understanding  | Literate review | 17.09.2024  |  | | From feedback: correct Harvard citation  |\n",
    "| Field understanding  | Data resources  | 18.09.2024|   |   | Add original resource  |\n",
    "| Field understanding  | Ethical consideration | 19.09.2024  |  |   | From feedback: Adjust Ethical Consideration  |\n",
    "| Field understanding  | Objectives | 20.09.2024  |  |  | From feedback: Adjust Objectives |\n",
    "| Field understanding  | Methods | 21.09.2024  |  |  | Correct methods |\n",
    "| Data understanding   | EDA | 22.09.2024  |  |  | Check on missing values, duplicates |\n",
    "| Data understanding   | Data set Overview  | 23.09.2024  | |  | Plotting high quality map for report |\n",
    "| Data Preparation    | Feature selection | 24.09.2024  |   |     | Drop irrelevant features |\n",
    "| Data Preparation   | NLP | 25.05.2024  |  |   | Separate \"Tag\" feature in  dummies  |\n",
    "| Data Preparation   | NLP | 26.05.2024  |   |   | Test library \"spacy\" module \"en_core_web_md\" for grouping tags |\n",
    "| Data Preparation   | NLP | 27.05.2024  |  |   | Group tags, come up with only a few main categories, store as dummies  |\n",
    "| Data Preparation   | Split Data | 28.09.2024  |   |     | Moved to Data Modeling section |\n",
    "| Data Modeling   | Number of clusters | 06.05.2024  |   |   | Test different methods to define optimal number of clusters |  \n",
    "| Data Modeling   | Set models | 06.05.2024  |   |   | ---- |  \n",
    "| Data Modeling   | Fit models | 08.05.2024  |   |  |  ---- |  \n",
    "| Evaluation   | Compare accuracy scores | 10.05.2024  |  |     | Line chart + table |\n",
    "| Conclusion  | Recommendation  | 12.09.2024  |   |   | Add benefits for selection young athletes |\n",
    "| Data Modeling   | Fit models  | 13.09.2024 |  |   | Merge all models into one loop, add progress bar|\n",
    "| Evaluation   | Evaluation    | 14.09.2024 |    |   | Add metrics to evaluate models results |\n",
    "| Evaluation   | Evaluation  | 15.09.2024  |   |   | Add discussion after each evaluation metric |"
   ]
  },
  {
   "cell_type": "code",
   "execution_count": null,
   "id": "64759752-8727-4841-842a-34898aeeaff2",
   "metadata": {},
   "outputs": [],
   "source": []
  }
 ],
 "metadata": {
  "kernelspec": {
   "display_name": "Python 3 (ipykernel)",
   "language": "python",
   "name": "python3"
  },
  "language_info": {
   "codemirror_mode": {
    "name": "ipython",
    "version": 3
   },
   "file_extension": ".py",
   "mimetype": "text/x-python",
   "name": "python",
   "nbconvert_exporter": "python",
   "pygments_lexer": "ipython3",
   "version": "3.9.19"
  }
 },
 "nbformat": 4,
 "nbformat_minor": 5
}
